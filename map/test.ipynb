{
 "cells": [
  {
   "cell_type": "code",
   "execution_count": null,
   "metadata": {},
   "outputs": [],
   "source": [
    "# # test our normal distribution formula\n",
    "\n",
    "# a = 5.0\n",
    "# res = int(a * 2 * 100)\n",
    "# x = np.linspace(-a, a, res)\n",
    "# # mind starting with upper value of y axis here\n",
    "# y = np.linspace(-a, a, res)\n",
    "# X, Y = np.meshgrid(x, y)\n",
    "\n",
    "# stdv = 0.5\n",
    "# fwhm = 2.355 * stdv\n",
    "\n",
    "# dist = np.exp(-4 * np.log(2) * ((X - 0.0) ** 2 + (Y - 0.0) ** 2) / fwhm**2)\n",
    "\n",
    "\n",
    "# hf = plt.figure()\n",
    "# ha = hf.add_subplot(111, projection='3d')\n",
    "\n",
    "# X, Y = numpy.meshgrid(x, y)  # `plot_surface` expects `x` and `y` data to be 2D\n",
    "# ha.plot_surface(X, Y, dist)\n",
    "\n",
    "# plt.show()\n",
    "\n",
    "# plt.plot(dist[int(res / 2)])"
   ]
  },
  {
   "cell_type": "code",
   "execution_count": null,
   "metadata": {},
   "outputs": [],
   "source": [
    "# # example for 2 spots with distance \"m\" m from each other\n",
    "# # verifying that where they meet the edge is as hard as seen in the plots\n",
    "\n",
    "# sigma = 50000\n",
    "# mu = 0\n",
    "\n",
    "# fwhm = 2.355 * sigma\n",
    "\n",
    "# # gives the distribution in the whole raster space as X and Y are used here\n",
    "# def n(x):\n",
    "#     return np.exp(-4 * np.log(2) * ((x - mu) ** 2 + (0 - mu) ** 2) / fwhm**2)\n",
    "\n",
    "# a = []\n",
    "# m = 100000\n",
    "\n",
    "# a = [(n(i) * 45 + n(m-i) * 5) / (n(i) + n(m-i)) for i in range(0, m, 10000)]\n",
    "# plt.plot(a)\n"
   ]
  },
  {
   "cell_type": "code",
   "execution_count": null,
   "metadata": {},
   "outputs": [],
   "source": [
    "# with rasterio.open(map_path) as heatmap:\n",
    "#     A = heatmap.read(1)\n",
    "#     print(A.shape)\n",
    "#     # modify\n",
    "#     A = (Zn > 0.0000000000001) * A\n",
    "#     heatmap.write(A, 1)"
   ]
  },
  {
   "cell_type": "code",
   "execution_count": null,
   "metadata": {},
   "outputs": [],
   "source": [
    "# select the sice of (important/ populated) cities to show on the map\n",
    "\n",
    "# CITY_MAX = 100000\n",
    "\n",
    "# cities = pd.read_csv(\"../data/worldcities.csv\")\n",
    "# cities.population = cities.population.replace(\"\", np.nan)\n",
    "# cities = cities.dropna()\n",
    "# cities.population = cities.population.astype(int)\n",
    "# cities = cities[cities.population > CITY_MAX]\n",
    "\n",
    "# geometry = cities.apply(lambda x: Point(x.lng, x.lat), axis=1)\n",
    "# cities = GeoDataFrame(cities, crs=CRS.from_epsg(4326), geometry=geometry)\n",
    "# cities = cities.to_crs(epsg=3857)\n",
    "# cities = cities[cities.geometry.within(polygon.geometry[0])]"
   ]
  }
 ],
 "metadata": {
  "language_info": {
   "name": "python"
  }
 },
 "nbformat": 4,
 "nbformat_minor": 2
}
